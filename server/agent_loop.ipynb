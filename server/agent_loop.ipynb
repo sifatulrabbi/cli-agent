{
 "cells": [
  {
   "cell_type": "code",
   "execution_count": 9,
   "id": "a4cb72f9-a207-4902-b31d-049462696ca2",
   "metadata": {},
   "outputs": [
    {
     "name": "stdout",
     "output_type": "stream",
     "text": [
      "Collecting icecream\n",
      "  Downloading icecream-2.1.7-py3-none-any.whl.metadata (1.5 kB)\n",
      "Collecting colorama>=0.3.9 (from icecream)\n",
      "  Using cached colorama-0.4.6-py2.py3-none-any.whl.metadata (17 kB)\n",
      "Requirement already satisfied: pygments>=2.2.0 in /Users/sifatul/coding/cli-agent/.venv/lib/python3.11/site-packages (from icecream) (2.19.2)\n",
      "Requirement already satisfied: executing>=2.1.0 in /Users/sifatul/coding/cli-agent/.venv/lib/python3.11/site-packages (from icecream) (2.2.1)\n",
      "Requirement already satisfied: asttokens>=2.0.1 in /Users/sifatul/coding/cli-agent/.venv/lib/python3.11/site-packages (from icecream) (3.0.0)\n",
      "Downloading icecream-2.1.7-py3-none-any.whl (14 kB)\n",
      "Using cached colorama-0.4.6-py2.py3-none-any.whl (25 kB)\n",
      "Installing collected packages: colorama, icecream\n",
      "\u001b[2K   \u001b[38;2;114;156;31m━━━━━━━━━━━━━━━━━━━━━━━━━━━━━━━━━━━━━━━━\u001b[0m \u001b[32m2/2\u001b[0m [icecream]\n",
      "\u001b[1A\u001b[2KSuccessfully installed colorama-0.4.6 icecream-2.1.7\n"
     ]
    }
   ],
   "source": [
    "!pip install icecream"
   ]
  },
  {
   "cell_type": "code",
   "execution_count": 21,
   "id": "606e39a9-1905-4bc2-ae20-612089f6ae68",
   "metadata": {},
   "outputs": [],
   "source": [
    "from pydantic import BaseModel, Field\n",
    "\n",
    "\n",
    "class read_file(BaseModel):\n",
    "    \"\"\"Read a file's content.\"\"\"\n",
    "\n",
    "    name: str = Field(..., description=\"Name of the file\")\n"
   ]
  },
  {
   "cell_type": "code",
   "execution_count": 49,
   "id": "8d423b77-4f88-43d8-86b5-dfa984e09ebc",
   "metadata": {},
   "outputs": [],
   "source": [
    "import json\n",
    "from langchain_openai import ChatOpenAI\n",
    "from langchain_core.messages import HumanMessage\n",
    "from langchain.chat_models import init_chat_model\n",
    "\n",
    "tools = [read_file]\n",
    "llm = ChatOpenAI(\n",
    "    model=\"gpt-5-mini\",\n",
    "    use_responses_api=True,\n",
    "    output_version=\"responses/v1\",\n",
    "    reasoning={\"effort\": \"medium\", \"summary\": \"auto\"},\n",
    ")\n",
    "llm = llm.bind_tools(tools)"
   ]
  },
  {
   "cell_type": "code",
   "execution_count": 50,
   "id": "dfb48f85-9da5-4cf5-b089-8274ff814408",
   "metadata": {},
   "outputs": [
    {
     "name": "stdout",
     "output_type": "stream",
     "text": [
      "{\n",
      "  \"id\": \"rs_68bce05cd39481949fb3a6a5b8ac431e0a361c881c574a77\",\n",
      "  \"summary\": [\n",
      "    {\n",
      "      \"text\": \"**Contemplating human uniqueness**\\n\\nThe user is asking me to think deeply about what makes humans unique and to distill that into a single, reflective line. They might be looking for something poetic or philosophical. I could say, \\u201cHumans are unique because they bind memory, imagination, and empathy to forge stories that shape the future.\\u201d It\\u2019s important to keep it concise while capturing qualities like self-awareness and creativity. I want to make sure I get this just right!\",\n",
      "      \"type\": \"summary_text\"\n",
      "    },\n",
      "    {\n",
      "      \"text\": \"**Crafting a line about humans**\\n\\nI need to create a concise line that reflects what makes humans unique, focusing on their self-awareness and storytelling ability. One option I\\u2019m considering is: \\u201cHumans are creatures of questions\\u2014self-aware storytellers who weave memory, imagination, and empathy into meaning.\\u201d However, I might simplify it further to: \\u201cWhat makes humans unique is their ability to imagine themselves from the outside, to tell stories about their lives, and to choose how those stories proceed.\\u201d I\\u2019ll stick to one line!\",\n",
      "      \"type\": \"summary_text\"\n",
      "    }\n",
      "  ],\n",
      "  \"type\": \"reasoning\"\n",
      "}\n",
      "{\n",
      "  \"type\": \"text\",\n",
      "  \"text\": \"Humans are unique: self-aware storytellers who use memory, imagination, and empathy to turn experience into meaning.\",\n",
      "  \"annotations\": [],\n",
      "  \"id\": \"msg_68bce062b7848194a4898ee83ed817900a361c881c574a77\"\n",
      "}\n"
     ]
    }
   ],
   "source": [
    "response = llm.invoke([HumanMessage(\"Think deeply about what makes a human unique. Then say line about humans.\")])\n",
    "def pretty_response(res):\n",
    "    for item in res.content:\n",
    "      print(json.dumps(item, indent=2))\n",
    "\n",
    "pretty_response(response)"
   ]
  }
 ],
 "metadata": {
  "kernelspec": {
   "display_name": "Python 3 (ipykernel)",
   "language": "python",
   "name": "python3"
  },
  "language_info": {
   "codemirror_mode": {
    "name": "ipython",
    "version": 3
   },
   "file_extension": ".py",
   "mimetype": "text/x-python",
   "name": "python",
   "nbconvert_exporter": "python",
   "pygments_lexer": "ipython3",
   "version": "3.11.13"
  }
 },
 "nbformat": 4,
 "nbformat_minor": 5
}
